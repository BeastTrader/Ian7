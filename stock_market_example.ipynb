{
 "cells": [
  {
   "cell_type": "markdown",
   "metadata": {},
   "source": [
    "# This is a start of the implementation to have a reinforcement learner on the stock market\n",
    "\n",
    "We require different classes here:\n",
    "* A stock class\n",
    "    - This class will have all the characteristics that a typical stock will have, i.e. name, ticker, currency etc\n",
    "* A stock market class, containing all the stocks in a given stock market\n",
    "* A methods class containing all the operations to be performed on the stock class, i.e. get_historical_data\n",
    "    - Given a time frame, all the methods in this class can be executed"
   ]
  },
  {
   "cell_type": "code",
   "execution_count": 19,
   "metadata": {},
   "outputs": [],
   "source": [
    "import pandas as pd\n",
    "from methods import *"
   ]
  },
  {
   "cell_type": "code",
   "execution_count": 20,
   "metadata": {},
   "outputs": [],
   "source": [
    " class StockMarket:\n",
    "    \n",
    "    '''\n",
    "        This class represents a stock market consisting of all the stocks within the specific stock market.\n",
    "        The main objective of this class is to construct the stock market and to adapt it as it changes over time.\n",
    "    '''\n",
    "    \n",
    "    def __init__(self, market:str, currency:str):\n",
    "        '''\n",
    "            We only have two main characteristics of a stock market:\n",
    "                - The name of the stock market\n",
    "                - The currency that shares are traded on the stock market\n",
    "        '''\n",
    "        self.market = market\n",
    "        self.currency = currency\n",
    "        \n",
    "        \n",
    "    def construct_market(self, data:str = 'stock_data.csv') -> dict:\n",
    "        '''\n",
    "            This method's sole purpose is to create the stock market, consisting of all the stocks within it.\n",
    "            \n",
    "            data: CSV file containing the stocks within a stock market and other information about these stocks\n",
    "            \n",
    "            returns a dictionary of tickers and their relating objects\n",
    "        '''\n",
    "        df_info = pd.read_csv(data, header=0)\n",
    "        stock_dict = {}\n",
    "        \n",
    "        for _, row in df_info.iterrows():\n",
    "            df_data_i = pd.read_excel('historic_data.xlsx', sheet_name=row['ticker'])\n",
    "            div_i = pd.read_excel('historic_dividends.xlsx', sheet_name=row['ticker'])\n",
    "            stock_i = Stock(row['name'],\n",
    "                            row['ticker'], \n",
    "                            row['sector'],\n",
    "                            row['stock_type'],\n",
    "                            row['market'],\n",
    "                            row['currency'],\n",
    "                            df_data_i,\n",
    "                            div_i)\n",
    "            stock_dict[row['ticker']] = stock_i\n",
    "        \n",
    "        return stock_dict\n",
    "\n",
    "            \n",
    "class Stock(StockMarket):\n",
    "    \n",
    "    '''\n",
    "        This class relates specific stocks and their information.\n",
    "        It inherits from the StockMarket class\n",
    "        i.e. a stock can only be constructed if it is listed on a corresponding stock market\n",
    "    '''\n",
    "    \n",
    "    def __init__(self, name:str, ticker:str, sector:str, stock_type:str, \n",
    "                 market:str, currency:str, historical_data:pd.DataFrame,\n",
    "                 div_history:pd.DataFrame):\n",
    "        '''\n",
    "            A stock has the following characteristics:\n",
    "                - The stock market it is listed on\n",
    "                - The currency that it is traded in \n",
    "                - The stock's name\n",
    "                - Its ticker\n",
    "                - The sector it belongs to\n",
    "                - The type of stock it is (growth, value)\n",
    "        '''\n",
    "        StockMarket.__init__(self, market, currency)\n",
    "        self.name = name\n",
    "        self.ticker = ticker\n",
    "        self.sector = sector\n",
    "        self.stock_type = stock_type\n",
    "        self.historical_data = historical_data\n",
    "        self.div_history = div_history\n",
    "        \n",
    "        \n",
    "    def __str__(self):\n",
    "        return_string = '''Stock: {} \\nTicker: {} \\nSector: {} \\nType: {} \\nMarket: {} \\nCurrency: {}'''\n",
    "        return return_string.format(self.name, \n",
    "                                    self.ticker, \n",
    "                                    self.sector, \n",
    "                                    self.stock_type,\n",
    "                                    self.market, \n",
    "                                    self.currency)"
   ]
  },
  {
   "cell_type": "code",
   "execution_count": 21,
   "metadata": {},
   "outputs": [],
   "source": [
    "JSE = StockMarket('JSE', 'ZAR')"
   ]
  },
  {
   "cell_type": "code",
   "execution_count": 22,
   "metadata": {},
   "outputs": [],
   "source": [
    "shares = JSE.construct_market()"
   ]
  },
  {
   "cell_type": "code",
   "execution_count": 23,
   "metadata": {},
   "outputs": [
    {
     "data": {
      "text/plain": [
       "43.6698417022072"
      ]
     },
     "execution_count": 23,
     "metadata": {},
     "output_type": "execute_result"
    }
   ],
   "source": [
    "calculate_returns(shares['SOL'])"
   ]
  },
  {
   "cell_type": "code",
   "execution_count": 24,
   "metadata": {},
   "outputs": [
    {
     "ename": "NameError",
     "evalue": "name 'calculate_div_yield' is not defined",
     "output_type": "error",
     "traceback": [
      "\u001b[1;31m---------------------------------------------------------------------------\u001b[0m",
      "\u001b[1;31mNameError\u001b[0m                                 Traceback (most recent call last)",
      "\u001b[1;32m<ipython-input-24-4978ba3a2bfb>\u001b[0m in \u001b[0;36m<module>\u001b[1;34m\u001b[0m\n\u001b[1;32m----> 1\u001b[1;33m \u001b[0mcalculate_div_yield\u001b[0m\u001b[1;33m(\u001b[0m\u001b[0mshares\u001b[0m\u001b[1;33m[\u001b[0m\u001b[1;34m'NPN'\u001b[0m\u001b[1;33m]\u001b[0m\u001b[1;33m)\u001b[0m\u001b[1;33m\u001b[0m\u001b[1;33m\u001b[0m\u001b[0m\n\u001b[0m",
      "\u001b[1;31mNameError\u001b[0m: name 'calculate_div_yield' is not defined"
     ]
    }
   ],
   "source": [
    "calculate_div_yield(shares['NPN'])"
   ]
  },
  {
   "cell_type": "code",
   "execution_count": null,
   "metadata": {},
   "outputs": [],
   "source": []
  }
 ],
 "metadata": {
  "kernelspec": {
   "display_name": "general",
   "language": "python",
   "name": "general"
  },
  "language_info": {
   "codemirror_mode": {
    "name": "ipython",
    "version": 3
   },
   "file_extension": ".py",
   "mimetype": "text/x-python",
   "name": "python",
   "nbconvert_exporter": "python",
   "pygments_lexer": "ipython3",
   "version": "3.6.8"
  }
 },
 "nbformat": 4,
 "nbformat_minor": 2
}
